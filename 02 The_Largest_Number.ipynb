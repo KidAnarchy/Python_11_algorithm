{
 "cells": [
  {
   "cell_type": "markdown",
   "metadata": {},
   "source": [
    "### Write a program that accepts a list of four non negative integers, arranges them such that they form a largest possible number.\n",
    "* For example [ 50,2,1,9 ], the largest formed number is 95021\n",
    "* Be carefull if [ 10,1 ] the answer is not 101 but 110"
   ]
  },
  {
   "cell_type": "code",
   "execution_count": 1,
   "metadata": {},
   "outputs": [
    {
     "name": "stdout",
     "output_type": "stream",
     "text": [
      "-----------Largest Formed Number----------------\n",
      "\n",
      "How many number that you want to play?  :4\n",
      "Please type No. 1 number\n",
      "50\n",
      "Please type No. 2 number\n",
      "2\n",
      "Please type No. 3 number\n",
      "1\n",
      "Please type No. 4 number\n",
      "9\n",
      "Your 4 number are: [50, 2, 1, 9]\n",
      "\n",
      "The largest formed number is: 95021\n"
     ]
    }
   ],
   "source": [
    "from itertools import permutations\n",
    "\n",
    "print('-----------Largest Formed Number----------------')\n",
    "\n",
    "# player will input n amount of number and input number.\n",
    "n = int(input('\\nHow many number that you want to play?  :'))\n",
    "d = []\n",
    "for k in range(n):\n",
    "    print('Please type No.',k+1,'number')\n",
    "    d.append( int(input()) )\n",
    "print('Your',n,'number are:',d)\n",
    "\n",
    "# Sort in descending order.\n",
    "d.sort(reverse=True)\n",
    "t = []\n",
    "for e in d :\n",
    "    t.append(str(e))\n",
    "    \n",
    "# Using permutations in generated random sort number.\n",
    "L = list(range(n))\n",
    "l = permutations(L)\n",
    "Max = str()\n",
    "\n",
    "for i in l:\n",
    "    m = ([t[j] for j in i])\n",
    "    m1=(''.join(m))\n",
    "    #print(m1)   Only for visit number.\n",
    "    if m1 > Max:\n",
    "        Max = m1\n",
    "        \n",
    "print('\\nThe largest formed number is:',Max)"
   ]
  }
 ],
 "metadata": {
  "kernelspec": {
   "display_name": "Python 3",
   "language": "python",
   "name": "python3"
  },
  "language_info": {
   "codemirror_mode": {
    "name": "ipython",
    "version": 3
   },
   "file_extension": ".py",
   "mimetype": "text/x-python",
   "name": "python",
   "nbconvert_exporter": "python",
   "pygments_lexer": "ipython3",
   "version": "3.8.5"
  }
 },
 "nbformat": 4,
 "nbformat_minor": 4
}
